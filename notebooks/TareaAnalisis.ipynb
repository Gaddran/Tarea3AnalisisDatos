{
 "cells": [
  {
   "cell_type": "markdown",
   "id": "ce77f34e-deee-460e-9d7d-685b05a88d48",
   "metadata": {},
   "source": [
    "<div>\n",
    "<img src=\"https://i.ibb.co/v3CvVz9/udd-short.png\" width=\"150\"/>\n",
    "    <br>\n",
    "    <strong>Universidad del Desarrollo</strong><br>\n",
    "    <em>Magíster en Data Science</em><br>\n",
    "    <em>Profesor: Boris Panes </em><br>\n",
    "\n",
    "</div>\n",
    "\n",
    "# Análisis de datos\n",
    "*27 de Octubre de 2024*\n",
    "\n",
    "**Nombre Estudiante(s)**: Mariangel Arrieta, Giuseppe Lavarello, Ingrid Solís, Rosario Valderrama"
   ]
  },
  {
   "cell_type": "markdown",
   "id": "b6db2176-e8c4-415c-a04d-25352458a09c",
   "metadata": {},
   "source": [
    "**1. Importación de Librerias**"
   ]
  },
  {
   "cell_type": "code",
   "execution_count": 1,
   "id": "f903f91e-8ba9-4ac6-954a-b4e49a5ac5fd",
   "metadata": {},
   "outputs": [],
   "source": [
    "# Importar librerias\n",
    "import numpy as np\n",
    "import pandas as pd\n",
    "from matplotlib import pyplot as plt\n",
    "from matplotlib import dates as mdates\n",
    "\n",
    "from sklearn.model_selection import train_test_split \n",
    "from sklearn import metrics\n",
    "from sklearn.linear_model import LinearRegression\n",
    "\n"
   ]
  },
  {
   "cell_type": "markdown",
   "id": "55df0226-1992-49a0-a5da-6c23d6117eb3",
   "metadata": {},
   "source": [
    "**2. Lectura de archivo**"
   ]
  },
  {
   "cell_type": "markdown",
   "id": "f1b50277",
   "metadata": {},
   "source": [
    "Descripción del contexto: Determinar la demanda global de vinos dada la venta histórica"
   ]
  },
  {
   "cell_type": "code",
   "execution_count": 2,
   "id": "d1473426-5be9-4461-bc58-2792454904a7",
   "metadata": {},
   "outputs": [
    {
     "data": {
      "text/html": [
       "<div>\n",
       "<style scoped>\n",
       "    .dataframe tbody tr th:only-of-type {\n",
       "        vertical-align: middle;\n",
       "    }\n",
       "\n",
       "    .dataframe tbody tr th {\n",
       "        vertical-align: top;\n",
       "    }\n",
       "\n",
       "    .dataframe thead th {\n",
       "        text-align: right;\n",
       "    }\n",
       "</style>\n",
       "<table border=\"1\" class=\"dataframe\">\n",
       "  <thead>\n",
       "    <tr style=\"text-align: right;\">\n",
       "      <th></th>\n",
       "      <th>ano</th>\n",
       "      <th>mes</th>\n",
       "      <th>CodCliente</th>\n",
       "      <th>codproducto</th>\n",
       "      <th>cosecha</th>\n",
       "      <th>mercado</th>\n",
       "      <th>Pais</th>\n",
       "      <th>Cajas9Lts</th>\n",
       "      <th>MontoUSD</th>\n",
       "      <th>MontoCLP</th>\n",
       "    </tr>\n",
       "  </thead>\n",
       "  <tbody>\n",
       "    <tr>\n",
       "      <th>0</th>\n",
       "      <td>1999</td>\n",
       "      <td>NaN</td>\n",
       "      <td>10008-0</td>\n",
       "      <td>NaN</td>\n",
       "      <td>NaN</td>\n",
       "      <td>NORTE AMERICA</td>\n",
       "      <td>USA</td>\n",
       "      <td>4575.0</td>\n",
       "      <td>130625.0</td>\n",
       "      <td>0.0</td>\n",
       "    </tr>\n",
       "    <tr>\n",
       "      <th>1</th>\n",
       "      <td>1999</td>\n",
       "      <td>NaN</td>\n",
       "      <td>NaN</td>\n",
       "      <td>NaN</td>\n",
       "      <td>NaN</td>\n",
       "      <td>NORTE AMERICA</td>\n",
       "      <td>USA</td>\n",
       "      <td>7098.0</td>\n",
       "      <td>228766.0</td>\n",
       "      <td>0.0</td>\n",
       "    </tr>\n",
       "    <tr>\n",
       "      <th>2</th>\n",
       "      <td>1999</td>\n",
       "      <td>NaN</td>\n",
       "      <td>3344-8</td>\n",
       "      <td>NaN</td>\n",
       "      <td>NaN</td>\n",
       "      <td>NORTE AMERICA</td>\n",
       "      <td>USA</td>\n",
       "      <td>1082.0</td>\n",
       "      <td>36700.0</td>\n",
       "      <td>0.0</td>\n",
       "    </tr>\n",
       "    <tr>\n",
       "      <th>3</th>\n",
       "      <td>1999</td>\n",
       "      <td>NaN</td>\n",
       "      <td>2222-5</td>\n",
       "      <td>NaN</td>\n",
       "      <td>NaN</td>\n",
       "      <td>NORTE AMERICA</td>\n",
       "      <td>USA</td>\n",
       "      <td>492.0</td>\n",
       "      <td>15068.0</td>\n",
       "      <td>0.0</td>\n",
       "    </tr>\n",
       "    <tr>\n",
       "      <th>4</th>\n",
       "      <td>1999</td>\n",
       "      <td>NaN</td>\n",
       "      <td>NaN</td>\n",
       "      <td>NaN</td>\n",
       "      <td>NaN</td>\n",
       "      <td>ASIA</td>\n",
       "      <td>NaN</td>\n",
       "      <td>4601.0</td>\n",
       "      <td>153235.0</td>\n",
       "      <td>0.0</td>\n",
       "    </tr>\n",
       "    <tr>\n",
       "      <th>5</th>\n",
       "      <td>1999</td>\n",
       "      <td>NaN</td>\n",
       "      <td>NaN</td>\n",
       "      <td>NaN</td>\n",
       "      <td>NaN</td>\n",
       "      <td>OCEANIA</td>\n",
       "      <td>NaN</td>\n",
       "      <td>1870.0</td>\n",
       "      <td>41220.0</td>\n",
       "      <td>0.0</td>\n",
       "    </tr>\n",
       "    <tr>\n",
       "      <th>6</th>\n",
       "      <td>1999</td>\n",
       "      <td>NaN</td>\n",
       "      <td>NaN</td>\n",
       "      <td>NaN</td>\n",
       "      <td>NaN</td>\n",
       "      <td>EUROPA</td>\n",
       "      <td>NaN</td>\n",
       "      <td>37785.0</td>\n",
       "      <td>1034419.0</td>\n",
       "      <td>0.0</td>\n",
       "    </tr>\n",
       "    <tr>\n",
       "      <th>7</th>\n",
       "      <td>1999</td>\n",
       "      <td>NaN</td>\n",
       "      <td>NaN</td>\n",
       "      <td>NaN</td>\n",
       "      <td>NaN</td>\n",
       "      <td>LATINOAMERICA</td>\n",
       "      <td>ARGENTINA</td>\n",
       "      <td>386.0</td>\n",
       "      <td>11400.0</td>\n",
       "      <td>0.0</td>\n",
       "    </tr>\n",
       "    <tr>\n",
       "      <th>8</th>\n",
       "      <td>1999</td>\n",
       "      <td>NaN</td>\n",
       "      <td>NaN</td>\n",
       "      <td>NaN</td>\n",
       "      <td>NaN</td>\n",
       "      <td>LATINOAMERICA</td>\n",
       "      <td>PERU</td>\n",
       "      <td>248.0</td>\n",
       "      <td>6193.0</td>\n",
       "      <td>0.0</td>\n",
       "    </tr>\n",
       "    <tr>\n",
       "      <th>9</th>\n",
       "      <td>1999</td>\n",
       "      <td>NaN</td>\n",
       "      <td>NaN</td>\n",
       "      <td>NaN</td>\n",
       "      <td>NaN</td>\n",
       "      <td>LATINOAMERICA</td>\n",
       "      <td>MEXICO</td>\n",
       "      <td>30.0</td>\n",
       "      <td>860.0</td>\n",
       "      <td>0.0</td>\n",
       "    </tr>\n",
       "  </tbody>\n",
       "</table>\n",
       "</div>"
      ],
      "text/plain": [
       "    ano  mes CodCliente codproducto cosecha        mercado       Pais  \\\n",
       "0  1999  NaN    10008-0         NaN     NaN  NORTE AMERICA        USA   \n",
       "1  1999  NaN        NaN         NaN     NaN  NORTE AMERICA        USA   \n",
       "2  1999  NaN     3344-8         NaN     NaN  NORTE AMERICA        USA   \n",
       "3  1999  NaN     2222-5         NaN     NaN  NORTE AMERICA        USA   \n",
       "4  1999  NaN        NaN         NaN     NaN           ASIA        NaN   \n",
       "5  1999  NaN        NaN         NaN     NaN        OCEANIA        NaN   \n",
       "6  1999  NaN        NaN         NaN     NaN         EUROPA        NaN   \n",
       "7  1999  NaN        NaN         NaN     NaN  LATINOAMERICA  ARGENTINA   \n",
       "8  1999  NaN        NaN         NaN     NaN  LATINOAMERICA       PERU   \n",
       "9  1999  NaN        NaN         NaN     NaN  LATINOAMERICA     MEXICO   \n",
       "\n",
       "   Cajas9Lts   MontoUSD  MontoCLP  \n",
       "0     4575.0   130625.0       0.0  \n",
       "1     7098.0   228766.0       0.0  \n",
       "2     1082.0    36700.0       0.0  \n",
       "3      492.0    15068.0       0.0  \n",
       "4     4601.0   153235.0       0.0  \n",
       "5     1870.0    41220.0       0.0  \n",
       "6    37785.0  1034419.0       0.0  \n",
       "7      386.0    11400.0       0.0  \n",
       "8      248.0     6193.0       0.0  \n",
       "9       30.0      860.0       0.0  "
      ]
     },
     "execution_count": 2,
     "metadata": {},
     "output_type": "execute_result"
    }
   ],
   "source": [
    "# Especifica la ruta del archivo Excel\n",
    "file_path = r'..\\data\\VentaHistoricaVM.xlsx'\n",
    "\n",
    "# Lee el archivo Excel\n",
    "df = pd.read_excel(file_path, sheet_name='Hoja4')\n",
    "\n",
    "# Mostrar las primeras filas del DataFrame\n",
    "df.head(10)"
   ]
  },
  {
   "cell_type": "code",
   "execution_count": 3,
   "id": "6a2db07c",
   "metadata": {},
   "outputs": [
    {
     "data": {
      "text/html": [
       "<div>\n",
       "<style scoped>\n",
       "    .dataframe tbody tr th:only-of-type {\n",
       "        vertical-align: middle;\n",
       "    }\n",
       "\n",
       "    .dataframe tbody tr th {\n",
       "        vertical-align: top;\n",
       "    }\n",
       "\n",
       "    .dataframe thead th {\n",
       "        text-align: right;\n",
       "    }\n",
       "</style>\n",
       "<table border=\"1\" class=\"dataframe\">\n",
       "  <thead>\n",
       "    <tr style=\"text-align: right;\">\n",
       "      <th></th>\n",
       "      <th>año</th>\n",
       "      <th>mes</th>\n",
       "      <th>CodCliente</th>\n",
       "      <th>codproducto</th>\n",
       "      <th>cosecha</th>\n",
       "      <th>mercado</th>\n",
       "      <th>Pais</th>\n",
       "      <th>Cajas9Lts</th>\n",
       "      <th>MontoUSD</th>\n",
       "      <th>MontoCLP</th>\n",
       "    </tr>\n",
       "  </thead>\n",
       "  <tbody>\n",
       "    <tr>\n",
       "      <th>0</th>\n",
       "      <td>1999</td>\n",
       "      <td>NaN</td>\n",
       "      <td>10008-0</td>\n",
       "      <td>NaN</td>\n",
       "      <td>NaN</td>\n",
       "      <td>NORTE AMERICA</td>\n",
       "      <td>USA</td>\n",
       "      <td>4575.0</td>\n",
       "      <td>130625.0</td>\n",
       "      <td>0.0</td>\n",
       "    </tr>\n",
       "    <tr>\n",
       "      <th>1</th>\n",
       "      <td>1999</td>\n",
       "      <td>NaN</td>\n",
       "      <td>NaN</td>\n",
       "      <td>NaN</td>\n",
       "      <td>NaN</td>\n",
       "      <td>NORTE AMERICA</td>\n",
       "      <td>USA</td>\n",
       "      <td>7098.0</td>\n",
       "      <td>228766.0</td>\n",
       "      <td>0.0</td>\n",
       "    </tr>\n",
       "    <tr>\n",
       "      <th>2</th>\n",
       "      <td>1999</td>\n",
       "      <td>NaN</td>\n",
       "      <td>3344-8</td>\n",
       "      <td>NaN</td>\n",
       "      <td>NaN</td>\n",
       "      <td>NORTE AMERICA</td>\n",
       "      <td>USA</td>\n",
       "      <td>1082.0</td>\n",
       "      <td>36700.0</td>\n",
       "      <td>0.0</td>\n",
       "    </tr>\n",
       "    <tr>\n",
       "      <th>3</th>\n",
       "      <td>1999</td>\n",
       "      <td>NaN</td>\n",
       "      <td>2222-5</td>\n",
       "      <td>NaN</td>\n",
       "      <td>NaN</td>\n",
       "      <td>NORTE AMERICA</td>\n",
       "      <td>USA</td>\n",
       "      <td>492.0</td>\n",
       "      <td>15068.0</td>\n",
       "      <td>0.0</td>\n",
       "    </tr>\n",
       "    <tr>\n",
       "      <th>4</th>\n",
       "      <td>1999</td>\n",
       "      <td>NaN</td>\n",
       "      <td>NaN</td>\n",
       "      <td>NaN</td>\n",
       "      <td>NaN</td>\n",
       "      <td>ASIA</td>\n",
       "      <td>NaN</td>\n",
       "      <td>4601.0</td>\n",
       "      <td>153235.0</td>\n",
       "      <td>0.0</td>\n",
       "    </tr>\n",
       "    <tr>\n",
       "      <th>5</th>\n",
       "      <td>1999</td>\n",
       "      <td>NaN</td>\n",
       "      <td>NaN</td>\n",
       "      <td>NaN</td>\n",
       "      <td>NaN</td>\n",
       "      <td>OCEANIA</td>\n",
       "      <td>NaN</td>\n",
       "      <td>1870.0</td>\n",
       "      <td>41220.0</td>\n",
       "      <td>0.0</td>\n",
       "    </tr>\n",
       "    <tr>\n",
       "      <th>6</th>\n",
       "      <td>1999</td>\n",
       "      <td>NaN</td>\n",
       "      <td>NaN</td>\n",
       "      <td>NaN</td>\n",
       "      <td>NaN</td>\n",
       "      <td>EUROPA</td>\n",
       "      <td>NaN</td>\n",
       "      <td>37785.0</td>\n",
       "      <td>1034419.0</td>\n",
       "      <td>0.0</td>\n",
       "    </tr>\n",
       "    <tr>\n",
       "      <th>7</th>\n",
       "      <td>1999</td>\n",
       "      <td>NaN</td>\n",
       "      <td>NaN</td>\n",
       "      <td>NaN</td>\n",
       "      <td>NaN</td>\n",
       "      <td>LATINOAMERICA</td>\n",
       "      <td>ARGENTINA</td>\n",
       "      <td>386.0</td>\n",
       "      <td>11400.0</td>\n",
       "      <td>0.0</td>\n",
       "    </tr>\n",
       "    <tr>\n",
       "      <th>8</th>\n",
       "      <td>1999</td>\n",
       "      <td>NaN</td>\n",
       "      <td>NaN</td>\n",
       "      <td>NaN</td>\n",
       "      <td>NaN</td>\n",
       "      <td>LATINOAMERICA</td>\n",
       "      <td>PERU</td>\n",
       "      <td>248.0</td>\n",
       "      <td>6193.0</td>\n",
       "      <td>0.0</td>\n",
       "    </tr>\n",
       "    <tr>\n",
       "      <th>9</th>\n",
       "      <td>1999</td>\n",
       "      <td>NaN</td>\n",
       "      <td>NaN</td>\n",
       "      <td>NaN</td>\n",
       "      <td>NaN</td>\n",
       "      <td>LATINOAMERICA</td>\n",
       "      <td>MEXICO</td>\n",
       "      <td>30.0</td>\n",
       "      <td>860.0</td>\n",
       "      <td>0.0</td>\n",
       "    </tr>\n",
       "  </tbody>\n",
       "</table>\n",
       "</div>"
      ],
      "text/plain": [
       "    año  mes CodCliente codproducto cosecha        mercado       Pais  \\\n",
       "0  1999  NaN    10008-0         NaN     NaN  NORTE AMERICA        USA   \n",
       "1  1999  NaN        NaN         NaN     NaN  NORTE AMERICA        USA   \n",
       "2  1999  NaN     3344-8         NaN     NaN  NORTE AMERICA        USA   \n",
       "3  1999  NaN     2222-5         NaN     NaN  NORTE AMERICA        USA   \n",
       "4  1999  NaN        NaN         NaN     NaN           ASIA        NaN   \n",
       "5  1999  NaN        NaN         NaN     NaN        OCEANIA        NaN   \n",
       "6  1999  NaN        NaN         NaN     NaN         EUROPA        NaN   \n",
       "7  1999  NaN        NaN         NaN     NaN  LATINOAMERICA  ARGENTINA   \n",
       "8  1999  NaN        NaN         NaN     NaN  LATINOAMERICA       PERU   \n",
       "9  1999  NaN        NaN         NaN     NaN  LATINOAMERICA     MEXICO   \n",
       "\n",
       "   Cajas9Lts   MontoUSD  MontoCLP  \n",
       "0     4575.0   130625.0       0.0  \n",
       "1     7098.0   228766.0       0.0  \n",
       "2     1082.0    36700.0       0.0  \n",
       "3      492.0    15068.0       0.0  \n",
       "4     4601.0   153235.0       0.0  \n",
       "5     1870.0    41220.0       0.0  \n",
       "6    37785.0  1034419.0       0.0  \n",
       "7      386.0    11400.0       0.0  \n",
       "8      248.0     6193.0       0.0  \n",
       "9       30.0      860.0       0.0  "
      ]
     },
     "execution_count": 3,
     "metadata": {},
     "output_type": "execute_result"
    }
   ],
   "source": [
    "# Cambiar el nombre de la columna 'ano' a 'año'\n",
    "df.rename(columns={'ano': 'año'}, inplace=True)\n",
    "\n",
    "# Mostrar las primeras filas del DataFrame\n",
    "df.head(10)"
   ]
  },
  {
   "cell_type": "code",
   "execution_count": 4,
   "id": "49f8633a",
   "metadata": {},
   "outputs": [
    {
     "data": {
      "text/html": [
       "<div>\n",
       "<style scoped>\n",
       "    .dataframe tbody tr th:only-of-type {\n",
       "        vertical-align: middle;\n",
       "    }\n",
       "\n",
       "    .dataframe tbody tr th {\n",
       "        vertical-align: top;\n",
       "    }\n",
       "\n",
       "    .dataframe thead th {\n",
       "        text-align: right;\n",
       "    }\n",
       "</style>\n",
       "<table border=\"1\" class=\"dataframe\">\n",
       "  <thead>\n",
       "    <tr style=\"text-align: right;\">\n",
       "      <th></th>\n",
       "      <th>año</th>\n",
       "      <th>mes</th>\n",
       "      <th>CodCliente</th>\n",
       "      <th>codproducto</th>\n",
       "      <th>cosecha</th>\n",
       "      <th>mercado</th>\n",
       "      <th>Pais</th>\n",
       "      <th>Cajas9Lts</th>\n",
       "      <th>MontoUSD</th>\n",
       "      <th>MontoCLP</th>\n",
       "    </tr>\n",
       "  </thead>\n",
       "  <tbody>\n",
       "    <tr>\n",
       "      <th>42442</th>\n",
       "      <td>2024</td>\n",
       "      <td>10.0</td>\n",
       "      <td>2332-9</td>\n",
       "      <td>VMSBREC24750</td>\n",
       "      <td>24</td>\n",
       "      <td>BRASIL</td>\n",
       "      <td>BRASIL</td>\n",
       "      <td>140.0</td>\n",
       "      <td>6160.000000</td>\n",
       "      <td>5.711244e+06</td>\n",
       "    </tr>\n",
       "    <tr>\n",
       "      <th>42443</th>\n",
       "      <td>2024</td>\n",
       "      <td>10.0</td>\n",
       "      <td>2332-9</td>\n",
       "      <td>VMVIU121750</td>\n",
       "      <td>21</td>\n",
       "      <td>BRASIL</td>\n",
       "      <td>BRASIL</td>\n",
       "      <td>15.0</td>\n",
       "      <td>8850.000000</td>\n",
       "      <td>8.205278e+06</td>\n",
       "    </tr>\n",
       "    <tr>\n",
       "      <th>42444</th>\n",
       "      <td>2024</td>\n",
       "      <td>10.0</td>\n",
       "      <td>5165-9</td>\n",
       "      <td>VMVIU821750</td>\n",
       "      <td>21</td>\n",
       "      <td>ASIA</td>\n",
       "      <td>KOREA</td>\n",
       "      <td>67.0</td>\n",
       "      <td>16750.000000</td>\n",
       "      <td>1.552976e+07</td>\n",
       "    </tr>\n",
       "    <tr>\n",
       "      <th>42445</th>\n",
       "      <td>2024</td>\n",
       "      <td>10.0</td>\n",
       "      <td>2332-9</td>\n",
       "      <td>VMVIU821750</td>\n",
       "      <td>21</td>\n",
       "      <td>BRASIL</td>\n",
       "      <td>BRASIL</td>\n",
       "      <td>6.0</td>\n",
       "      <td>1800.000000</td>\n",
       "      <td>1.668870e+06</td>\n",
       "    </tr>\n",
       "    <tr>\n",
       "      <th>42446</th>\n",
       "      <td>2024</td>\n",
       "      <td>10.0</td>\n",
       "      <td>10021-8</td>\n",
       "      <td>VMCAREC23750C 4X750</td>\n",
       "      <td>23</td>\n",
       "      <td>NORTE AMERICA</td>\n",
       "      <td>MEXICO</td>\n",
       "      <td>2590.0</td>\n",
       "      <td>138539.100000</td>\n",
       "      <td>1.266010e+08</td>\n",
       "    </tr>\n",
       "    <tr>\n",
       "      <th>42447</th>\n",
       "      <td>2024</td>\n",
       "      <td>11.0</td>\n",
       "      <td>10021-8</td>\n",
       "      <td>VMCAREC23750C 4X750</td>\n",
       "      <td>23</td>\n",
       "      <td>NORTE AMERICA</td>\n",
       "      <td>MEXICO</td>\n",
       "      <td>700.0</td>\n",
       "      <td>37443.000000</td>\n",
       "      <td>3.373277e+07</td>\n",
       "    </tr>\n",
       "    <tr>\n",
       "      <th>42448</th>\n",
       "      <td>2024</td>\n",
       "      <td>10.0</td>\n",
       "      <td>10021-8</td>\n",
       "      <td>VMCSGRE22750COSTCO</td>\n",
       "      <td>22</td>\n",
       "      <td>NORTE AMERICA</td>\n",
       "      <td>MEXICO</td>\n",
       "      <td>150.0</td>\n",
       "      <td>13950.000000</td>\n",
       "      <td>1.256769e+07</td>\n",
       "    </tr>\n",
       "    <tr>\n",
       "      <th>42449</th>\n",
       "      <td>2024</td>\n",
       "      <td>10.0</td>\n",
       "      <td>4022-3</td>\n",
       "      <td>VMCAGRE22750</td>\n",
       "      <td>22</td>\n",
       "      <td>EUROPA</td>\n",
       "      <td>ITALIA</td>\n",
       "      <td>2.0</td>\n",
       "      <td>110.472824</td>\n",
       "      <td>1.003347e+05</td>\n",
       "    </tr>\n",
       "    <tr>\n",
       "      <th>42450</th>\n",
       "      <td>2024</td>\n",
       "      <td>10.0</td>\n",
       "      <td>7355-5</td>\n",
       "      <td>VMVIU121750</td>\n",
       "      <td>21</td>\n",
       "      <td>EUROPA</td>\n",
       "      <td>POLONIA</td>\n",
       "      <td>1.0</td>\n",
       "      <td>475.033142</td>\n",
       "      <td>4.314394e+05</td>\n",
       "    </tr>\n",
       "    <tr>\n",
       "      <th>42451</th>\n",
       "      <td>2024</td>\n",
       "      <td>10.0</td>\n",
       "      <td>7355-5</td>\n",
       "      <td>VMVIU821750</td>\n",
       "      <td>21</td>\n",
       "      <td>EUROPA</td>\n",
       "      <td>POLONIA</td>\n",
       "      <td>1.5</td>\n",
       "      <td>450.729121</td>\n",
       "      <td>4.093657e+05</td>\n",
       "    </tr>\n",
       "  </tbody>\n",
       "</table>\n",
       "</div>"
      ],
      "text/plain": [
       "        año   mes CodCliente          codproducto cosecha        mercado  \\\n",
       "42442  2024  10.0     2332-9         VMSBREC24750      24         BRASIL   \n",
       "42443  2024  10.0     2332-9          VMVIU121750      21         BRASIL   \n",
       "42444  2024  10.0     5165-9          VMVIU821750      21           ASIA   \n",
       "42445  2024  10.0     2332-9          VMVIU821750      21         BRASIL   \n",
       "42446  2024  10.0    10021-8  VMCAREC23750C 4X750      23  NORTE AMERICA   \n",
       "42447  2024  11.0    10021-8  VMCAREC23750C 4X750      23  NORTE AMERICA   \n",
       "42448  2024  10.0    10021-8   VMCSGRE22750COSTCO      22  NORTE AMERICA   \n",
       "42449  2024  10.0     4022-3         VMCAGRE22750      22         EUROPA   \n",
       "42450  2024  10.0     7355-5          VMVIU121750      21         EUROPA   \n",
       "42451  2024  10.0     7355-5          VMVIU821750      21         EUROPA   \n",
       "\n",
       "          Pais  Cajas9Lts       MontoUSD      MontoCLP  \n",
       "42442   BRASIL      140.0    6160.000000  5.711244e+06  \n",
       "42443   BRASIL       15.0    8850.000000  8.205278e+06  \n",
       "42444    KOREA       67.0   16750.000000  1.552976e+07  \n",
       "42445   BRASIL        6.0    1800.000000  1.668870e+06  \n",
       "42446   MEXICO     2590.0  138539.100000  1.266010e+08  \n",
       "42447   MEXICO      700.0   37443.000000  3.373277e+07  \n",
       "42448   MEXICO      150.0   13950.000000  1.256769e+07  \n",
       "42449   ITALIA        2.0     110.472824  1.003347e+05  \n",
       "42450  POLONIA        1.0     475.033142  4.314394e+05  \n",
       "42451  POLONIA        1.5     450.729121  4.093657e+05  "
      ]
     },
     "execution_count": 4,
     "metadata": {},
     "output_type": "execute_result"
    }
   ],
   "source": [
    "# Mostrar las últimas filas del DataFrame\n",
    "df.tail(10)"
   ]
  },
  {
   "cell_type": "markdown",
   "id": "f412184e-3e3f-4b64-8619-b399a8f50256",
   "metadata": {},
   "source": [
    "**3. Análisis exploratorio**"
   ]
  },
  {
   "cell_type": "code",
   "execution_count": 5,
   "id": "c9e0fdd9-3cac-4269-8649-9c3c30a21618",
   "metadata": {},
   "outputs": [
    {
     "name": "stdout",
     "output_type": "stream",
     "text": [
      "<class 'pandas.core.frame.DataFrame'>\n",
      "RangeIndex: 42452 entries, 0 to 42451\n",
      "Data columns (total 10 columns):\n",
      " #   Column       Non-Null Count  Dtype  \n",
      "---  ------       --------------  -----  \n",
      " 0   año          42452 non-null  int64  \n",
      " 1   mes          42313 non-null  float64\n",
      " 2   CodCliente   42418 non-null  object \n",
      " 3   codproducto  42265 non-null  object \n",
      " 4   cosecha      40292 non-null  object \n",
      " 5   mercado      42452 non-null  object \n",
      " 6   Pais         42303 non-null  object \n",
      " 7   Cajas9Lts    42452 non-null  float64\n",
      " 8   MontoUSD     42452 non-null  float64\n",
      " 9   MontoCLP     42452 non-null  float64\n",
      "dtypes: float64(4), int64(1), object(5)\n",
      "memory usage: 3.2+ MB\n"
     ]
    }
   ],
   "source": [
    "# Recopilación de información básica sobre el conjunto de datos\n",
    "df.info()"
   ]
  },
  {
   "cell_type": "code",
   "execution_count": 6,
   "id": "12d45d8e-9a4b-466b-ba49-5f307124da2b",
   "metadata": {},
   "outputs": [
    {
     "data": {
      "text/html": [
       "<div>\n",
       "<style scoped>\n",
       "    .dataframe tbody tr th:only-of-type {\n",
       "        vertical-align: middle;\n",
       "    }\n",
       "\n",
       "    .dataframe tbody tr th {\n",
       "        vertical-align: top;\n",
       "    }\n",
       "\n",
       "    .dataframe thead th {\n",
       "        text-align: right;\n",
       "    }\n",
       "</style>\n",
       "<table border=\"1\" class=\"dataframe\">\n",
       "  <thead>\n",
       "    <tr style=\"text-align: right;\">\n",
       "      <th></th>\n",
       "      <th>año</th>\n",
       "      <th>mes</th>\n",
       "      <th>Cajas9Lts</th>\n",
       "      <th>MontoUSD</th>\n",
       "      <th>MontoCLP</th>\n",
       "    </tr>\n",
       "  </thead>\n",
       "  <tbody>\n",
       "    <tr>\n",
       "      <th>count</th>\n",
       "      <td>42452.000000</td>\n",
       "      <td>42313.000000</td>\n",
       "      <td>42452.000000</td>\n",
       "      <td>4.245200e+04</td>\n",
       "      <td>4.245200e+04</td>\n",
       "    </tr>\n",
       "    <tr>\n",
       "      <th>mean</th>\n",
       "      <td>2014.784227</td>\n",
       "      <td>6.876634</td>\n",
       "      <td>109.286997</td>\n",
       "      <td>4.560297e+03</td>\n",
       "      <td>2.888807e+06</td>\n",
       "    </tr>\n",
       "    <tr>\n",
       "      <th>std</th>\n",
       "      <td>5.705123</td>\n",
       "      <td>3.381583</td>\n",
       "      <td>446.781091</td>\n",
       "      <td>1.467248e+04</td>\n",
       "      <td>6.196375e+06</td>\n",
       "    </tr>\n",
       "    <tr>\n",
       "      <th>min</th>\n",
       "      <td>1999.000000</td>\n",
       "      <td>1.000000</td>\n",
       "      <td>-560.000000</td>\n",
       "      <td>-2.500000e+04</td>\n",
       "      <td>-2.231554e+07</td>\n",
       "    </tr>\n",
       "    <tr>\n",
       "      <th>25%</th>\n",
       "      <td>2010.000000</td>\n",
       "      <td>4.000000</td>\n",
       "      <td>10.000000</td>\n",
       "      <td>6.380000e+02</td>\n",
       "      <td>4.443525e+05</td>\n",
       "    </tr>\n",
       "    <tr>\n",
       "      <th>50%</th>\n",
       "      <td>2015.000000</td>\n",
       "      <td>7.000000</td>\n",
       "      <td>38.000000</td>\n",
       "      <td>1.957000e+03</td>\n",
       "      <td>1.303261e+06</td>\n",
       "    </tr>\n",
       "    <tr>\n",
       "      <th>75%</th>\n",
       "      <td>2020.000000</td>\n",
       "      <td>10.000000</td>\n",
       "      <td>100.000000</td>\n",
       "      <td>4.620000e+03</td>\n",
       "      <td>3.056306e+06</td>\n",
       "    </tr>\n",
       "    <tr>\n",
       "      <th>max</th>\n",
       "      <td>2024.000000</td>\n",
       "      <td>12.000000</td>\n",
       "      <td>38640.000000</td>\n",
       "      <td>1.340072e+06</td>\n",
       "      <td>2.222784e+08</td>\n",
       "    </tr>\n",
       "  </tbody>\n",
       "</table>\n",
       "</div>"
      ],
      "text/plain": [
       "                año           mes     Cajas9Lts      MontoUSD      MontoCLP\n",
       "count  42452.000000  42313.000000  42452.000000  4.245200e+04  4.245200e+04\n",
       "mean    2014.784227      6.876634    109.286997  4.560297e+03  2.888807e+06\n",
       "std        5.705123      3.381583    446.781091  1.467248e+04  6.196375e+06\n",
       "min     1999.000000      1.000000   -560.000000 -2.500000e+04 -2.231554e+07\n",
       "25%     2010.000000      4.000000     10.000000  6.380000e+02  4.443525e+05\n",
       "50%     2015.000000      7.000000     38.000000  1.957000e+03  1.303261e+06\n",
       "75%     2020.000000     10.000000    100.000000  4.620000e+03  3.056306e+06\n",
       "max     2024.000000     12.000000  38640.000000  1.340072e+06  2.222784e+08"
      ]
     },
     "execution_count": 6,
     "metadata": {},
     "output_type": "execute_result"
    }
   ],
   "source": [
    "# Resumen estadistico de las variables numericas\n",
    "df.describe()"
   ]
  },
  {
   "cell_type": "code",
   "execution_count": 7,
   "id": "acf32619-cf1b-4776-aff8-a67976732251",
   "metadata": {},
   "outputs": [
    {
     "data": {
      "text/plain": [
       "(42452, 10)"
      ]
     },
     "execution_count": 7,
     "metadata": {},
     "output_type": "execute_result"
    }
   ],
   "source": [
    "# Dimensiones del df\n",
    "df.shape"
   ]
  },
  {
   "cell_type": "code",
   "execution_count": 8,
   "id": "d4f93079-242b-4f58-b88d-e5458722d944",
   "metadata": {},
   "outputs": [
    {
     "data": {
      "text/plain": [
       "año               26\n",
       "mes               12\n",
       "CodCliente       338\n",
       "codproducto     1688\n",
       "cosecha           33\n",
       "mercado            8\n",
       "Pais              98\n",
       "Cajas9Lts       1739\n",
       "MontoUSD       14924\n",
       "MontoCLP       29243\n",
       "dtype: int64"
      ]
     },
     "execution_count": 8,
     "metadata": {},
     "output_type": "execute_result"
    }
   ],
   "source": [
    "# Total de elementos únicos por cada columna.\n",
    "df.nunique()"
   ]
  },
  {
   "cell_type": "code",
   "execution_count": 9,
   "id": "88768290",
   "metadata": {},
   "outputs": [],
   "source": [
    "# Convertir todos los nombres de países a mayúsculas\n",
    "df['Pais'] = df['Pais'].str.upper()"
   ]
  },
  {
   "cell_type": "markdown",
   "id": "29c01c9e-9c78-498a-8511-fccacad70b7c",
   "metadata": {},
   "source": [
    "**4. Limpieza de datos**"
   ]
  },
  {
   "cell_type": "markdown",
   "id": "ccc6c7a3-8c3c-4512-a5f2-eded7d0a0601",
   "metadata": {},
   "source": [
    "**4.1 Busqueda de Valores Nulos**"
   ]
  },
  {
   "cell_type": "code",
   "execution_count": 10,
   "id": "f0b2be12-8771-441f-8fd1-4d4edb0838f6",
   "metadata": {},
   "outputs": [
    {
     "data": {
      "text/html": [
       "<div>\n",
       "<style scoped>\n",
       "    .dataframe tbody tr th:only-of-type {\n",
       "        vertical-align: middle;\n",
       "    }\n",
       "\n",
       "    .dataframe tbody tr th {\n",
       "        vertical-align: top;\n",
       "    }\n",
       "\n",
       "    .dataframe thead th {\n",
       "        text-align: right;\n",
       "    }\n",
       "</style>\n",
       "<table border=\"1\" class=\"dataframe\">\n",
       "  <thead>\n",
       "    <tr style=\"text-align: right;\">\n",
       "      <th></th>\n",
       "      <th>año</th>\n",
       "      <th>mes</th>\n",
       "      <th>CodCliente</th>\n",
       "      <th>codproducto</th>\n",
       "      <th>cosecha</th>\n",
       "      <th>mercado</th>\n",
       "      <th>Pais</th>\n",
       "      <th>Cajas9Lts</th>\n",
       "      <th>MontoUSD</th>\n",
       "      <th>MontoCLP</th>\n",
       "    </tr>\n",
       "  </thead>\n",
       "  <tbody>\n",
       "    <tr>\n",
       "      <th>0</th>\n",
       "      <td>1999</td>\n",
       "      <td>NaN</td>\n",
       "      <td>10008-0</td>\n",
       "      <td>NaN</td>\n",
       "      <td>NaN</td>\n",
       "      <td>NORTE AMERICA</td>\n",
       "      <td>USA</td>\n",
       "      <td>4575.0</td>\n",
       "      <td>130625.0</td>\n",
       "      <td>0.0</td>\n",
       "    </tr>\n",
       "    <tr>\n",
       "      <th>1</th>\n",
       "      <td>1999</td>\n",
       "      <td>NaN</td>\n",
       "      <td>NaN</td>\n",
       "      <td>NaN</td>\n",
       "      <td>NaN</td>\n",
       "      <td>NORTE AMERICA</td>\n",
       "      <td>USA</td>\n",
       "      <td>7098.0</td>\n",
       "      <td>228766.0</td>\n",
       "      <td>0.0</td>\n",
       "    </tr>\n",
       "    <tr>\n",
       "      <th>2</th>\n",
       "      <td>1999</td>\n",
       "      <td>NaN</td>\n",
       "      <td>3344-8</td>\n",
       "      <td>NaN</td>\n",
       "      <td>NaN</td>\n",
       "      <td>NORTE AMERICA</td>\n",
       "      <td>USA</td>\n",
       "      <td>1082.0</td>\n",
       "      <td>36700.0</td>\n",
       "      <td>0.0</td>\n",
       "    </tr>\n",
       "    <tr>\n",
       "      <th>3</th>\n",
       "      <td>1999</td>\n",
       "      <td>NaN</td>\n",
       "      <td>2222-5</td>\n",
       "      <td>NaN</td>\n",
       "      <td>NaN</td>\n",
       "      <td>NORTE AMERICA</td>\n",
       "      <td>USA</td>\n",
       "      <td>492.0</td>\n",
       "      <td>15068.0</td>\n",
       "      <td>0.0</td>\n",
       "    </tr>\n",
       "    <tr>\n",
       "      <th>4</th>\n",
       "      <td>1999</td>\n",
       "      <td>NaN</td>\n",
       "      <td>NaN</td>\n",
       "      <td>NaN</td>\n",
       "      <td>NaN</td>\n",
       "      <td>ASIA</td>\n",
       "      <td>NaN</td>\n",
       "      <td>4601.0</td>\n",
       "      <td>153235.0</td>\n",
       "      <td>0.0</td>\n",
       "    </tr>\n",
       "    <tr>\n",
       "      <th>5</th>\n",
       "      <td>1999</td>\n",
       "      <td>NaN</td>\n",
       "      <td>NaN</td>\n",
       "      <td>NaN</td>\n",
       "      <td>NaN</td>\n",
       "      <td>OCEANIA</td>\n",
       "      <td>NaN</td>\n",
       "      <td>1870.0</td>\n",
       "      <td>41220.0</td>\n",
       "      <td>0.0</td>\n",
       "    </tr>\n",
       "    <tr>\n",
       "      <th>6</th>\n",
       "      <td>1999</td>\n",
       "      <td>NaN</td>\n",
       "      <td>NaN</td>\n",
       "      <td>NaN</td>\n",
       "      <td>NaN</td>\n",
       "      <td>EUROPA</td>\n",
       "      <td>NaN</td>\n",
       "      <td>37785.0</td>\n",
       "      <td>1034419.0</td>\n",
       "      <td>0.0</td>\n",
       "    </tr>\n",
       "    <tr>\n",
       "      <th>7</th>\n",
       "      <td>1999</td>\n",
       "      <td>NaN</td>\n",
       "      <td>NaN</td>\n",
       "      <td>NaN</td>\n",
       "      <td>NaN</td>\n",
       "      <td>LATINOAMERICA</td>\n",
       "      <td>ARGENTINA</td>\n",
       "      <td>386.0</td>\n",
       "      <td>11400.0</td>\n",
       "      <td>0.0</td>\n",
       "    </tr>\n",
       "    <tr>\n",
       "      <th>8</th>\n",
       "      <td>1999</td>\n",
       "      <td>NaN</td>\n",
       "      <td>NaN</td>\n",
       "      <td>NaN</td>\n",
       "      <td>NaN</td>\n",
       "      <td>LATINOAMERICA</td>\n",
       "      <td>PERU</td>\n",
       "      <td>248.0</td>\n",
       "      <td>6193.0</td>\n",
       "      <td>0.0</td>\n",
       "    </tr>\n",
       "    <tr>\n",
       "      <th>9</th>\n",
       "      <td>1999</td>\n",
       "      <td>NaN</td>\n",
       "      <td>NaN</td>\n",
       "      <td>NaN</td>\n",
       "      <td>NaN</td>\n",
       "      <td>LATINOAMERICA</td>\n",
       "      <td>MEXICO</td>\n",
       "      <td>30.0</td>\n",
       "      <td>860.0</td>\n",
       "      <td>0.0</td>\n",
       "    </tr>\n",
       "  </tbody>\n",
       "</table>\n",
       "</div>"
      ],
      "text/plain": [
       "    año  mes CodCliente codproducto cosecha        mercado       Pais  \\\n",
       "0  1999  NaN    10008-0         NaN     NaN  NORTE AMERICA        USA   \n",
       "1  1999  NaN        NaN         NaN     NaN  NORTE AMERICA        USA   \n",
       "2  1999  NaN     3344-8         NaN     NaN  NORTE AMERICA        USA   \n",
       "3  1999  NaN     2222-5         NaN     NaN  NORTE AMERICA        USA   \n",
       "4  1999  NaN        NaN         NaN     NaN           ASIA        NaN   \n",
       "5  1999  NaN        NaN         NaN     NaN        OCEANIA        NaN   \n",
       "6  1999  NaN        NaN         NaN     NaN         EUROPA        NaN   \n",
       "7  1999  NaN        NaN         NaN     NaN  LATINOAMERICA  ARGENTINA   \n",
       "8  1999  NaN        NaN         NaN     NaN  LATINOAMERICA       PERU   \n",
       "9  1999  NaN        NaN         NaN     NaN  LATINOAMERICA     MEXICO   \n",
       "\n",
       "   Cajas9Lts   MontoUSD  MontoCLP  \n",
       "0     4575.0   130625.0       0.0  \n",
       "1     7098.0   228766.0       0.0  \n",
       "2     1082.0    36700.0       0.0  \n",
       "3      492.0    15068.0       0.0  \n",
       "4     4601.0   153235.0       0.0  \n",
       "5     1870.0    41220.0       0.0  \n",
       "6    37785.0  1034419.0       0.0  \n",
       "7      386.0    11400.0       0.0  \n",
       "8      248.0     6193.0       0.0  \n",
       "9       30.0      860.0       0.0  "
      ]
     },
     "execution_count": 10,
     "metadata": {},
     "output_type": "execute_result"
    }
   ],
   "source": [
    "# Filtrar y mostrar las filas con NaN\n",
    "nan_rows = df[df.isna().any(axis=1)]\n",
    "\n",
    "#print(\"Listado de filas con NaN:\")\n",
    "nan_rows.head(10)"
   ]
  },
  {
   "cell_type": "code",
   "execution_count": 11,
   "id": "57b13f7f-cb3e-4c9f-aba6-06bcf6755dd2",
   "metadata": {},
   "outputs": [
    {
     "name": "stdout",
     "output_type": "stream",
     "text": [
      "Valores NaN por columna:\n",
      "año               0\n",
      "mes             139\n",
      "CodCliente       34\n",
      "codproducto     187\n",
      "cosecha        2160\n",
      "mercado           0\n",
      "Pais            149\n",
      "Cajas9Lts         0\n",
      "MontoUSD          0\n",
      "MontoCLP          0\n",
      "dtype: int64\n"
     ]
    }
   ],
   "source": [
    "# Contar cuántos NaN hay en cada columna\n",
    "nan_count = df.isna().sum()\n",
    "print(\"Valores NaN por columna:\")\n",
    "print(nan_count)"
   ]
  },
  {
   "cell_type": "code",
   "execution_count": 12,
   "id": "e1ab7b88-66cc-43d9-a23e-9d89f95d1e92",
   "metadata": {},
   "outputs": [],
   "source": [
    "#pip install missingno\n",
    "import missingno as msgn"
   ]
  },
  {
   "cell_type": "code",
   "execution_count": 13,
   "id": "23fd35aa-0dfd-4030-b28f-e342d3ab032b",
   "metadata": {},
   "outputs": [
    {
     "data": {
      "text/plain": [
       "<Axes: >"
      ]
     },
     "execution_count": 13,
     "metadata": {},
     "output_type": "execute_result"
    },
    {
     "data": {
      "image/png": "[encoded data removed]",
      "text/plain": [
       "<Figure size 2500x1000 with 2 Axes>"
      ]
     },
     "metadata": {},
     "output_type": "display_data"
    }
   ],
   "source": [
    "# Se visualiza los Nulos\n",
    "msgn.matrix(df)"
   ]
  },
  {
   "cell_type": "markdown",
   "id": "cb631722",
   "metadata": {},
   "source": [
    "**4.2 Tratamiento de valores Nulos: campos 'mes' , 'CodCliente' y 'CodProducto'** "
   ]
  },
  {
   "cell_type": "code",
   "execution_count": 14,
   "id": "13973b8f",
   "metadata": {},
   "outputs": [
    {
     "name": "stdout",
     "output_type": "stream",
     "text": [
      "Años correspondientes a los valores nulos en 'mes':\n",
      "[1999 2000 2001 2002 2003 2004]\n"
     ]
    }
   ],
   "source": [
    "# Filtrar las filas donde 'mes' es nulo\n",
    "mes_nulos = df[df['mes'].isna()]\n",
    "\n",
    "# Mostrar los años correspondientes a los valores nulos en 'mes'\n",
    "años_con_mes_nulo = mes_nulos['año'].unique()\n",
    "\n",
    "print(\"Años correspondientes a los valores nulos en 'mes':\")\n",
    "print(años_con_mes_nulo)"
   ]
  },
  {
   "cell_type": "code",
   "execution_count": 15,
   "id": "004fdb85",
   "metadata": {},
   "outputs": [
    {
     "name": "stdout",
     "output_type": "stream",
     "text": [
      "     año  mes CodCliente codproducto cosecha        mercado       Pais  \\\n",
      "1   1999  NaN        NaN         NaN     NaN  NORTE AMERICA        USA   \n",
      "4   1999  NaN        NaN         NaN     NaN           ASIA        NaN   \n",
      "5   1999  NaN        NaN         NaN     NaN        OCEANIA        NaN   \n",
      "6   1999  NaN        NaN         NaN     NaN         EUROPA        NaN   \n",
      "7   1999  NaN        NaN         NaN     NaN  LATINOAMERICA  ARGENTINA   \n",
      "8   1999  NaN        NaN         NaN     NaN  LATINOAMERICA       PERU   \n",
      "9   1999  NaN        NaN         NaN     NaN  LATINOAMERICA     MEXICO   \n",
      "11  2000  NaN        NaN         NaN     NaN           ASIA        NaN   \n",
      "14  2000  NaN        NaN         NaN     NaN         EUROPA        NaN   \n",
      "16  2000  NaN        NaN         NaN     NaN  NORTE AMERICA        USA   \n",
      "\n",
      "    Cajas9Lts   MontoUSD  MontoCLP  \n",
      "1      7098.0   228766.0       0.0  \n",
      "4      4601.0   153235.0       0.0  \n",
      "5      1870.0    41220.0       0.0  \n",
      "6     37785.0  1034419.0       0.0  \n",
      "7       386.0    11400.0       0.0  \n",
      "8       248.0     6193.0       0.0  \n",
      "9        30.0      860.0       0.0  \n",
      "11     9450.0   292025.0       0.0  \n",
      "14     9105.0   318103.0       0.0  \n",
      "16     2881.0    92069.0       0.0  \n",
      "Total de registros con 'CodCliente' nulo: 34\n"
     ]
    }
   ],
   "source": [
    "# Filtrar las filas donde 'CodCliente' es nulo\n",
    "cod_cliente_nulos = df[df['CodCliente'].isna()]\n",
    "\n",
    "# Mostrar las primeras filas\n",
    "print(cod_cliente_nulos.head(10))\n",
    "\n",
    "# Mostrar cuántos registros tienen 'CodCliente' nulo\n",
    "print(f\"Total de registros con 'CodCliente' nulo: {len(cod_cliente_nulos)}\")"
   ]
  },
  {
   "cell_type": "markdown",
   "id": "fdad8a05",
   "metadata": {},
   "source": [
    "Decisión: Se eliminan registros con valores NAN asociados a 'mes' y 'CodCliente' porque la mayoria pertecen a los registros con periodo 1999 hasta 2004 y representan el 0.5% del total de filas"
   ]
  },
  {
   "cell_type": "code",
   "execution_count": 16,
   "id": "ce951f93",
   "metadata": {},
   "outputs": [
    {
     "name": "stdout",
     "output_type": "stream",
     "text": [
      "Total de filas después de eliminar valores nulos: 42265\n"
     ]
    }
   ],
   "source": [
    "# Eliminar filas con valores nulos en 'mes' y 'CodCliente'\n",
    "df = df.dropna(subset=['mes', 'CodCliente', 'codproducto'])\n",
    "\n",
    "# Mostrar la cantidad de filas después de la limpieza\n",
    "print(f\"Total de filas después de eliminar valores nulos: {len(df)}\")"
   ]
  },
  {
   "cell_type": "markdown",
   "id": "a8c47a55",
   "metadata": {},
   "source": [
    "**4.3 Tratamiento de valores Nulos: campo 'Cosecha'**"
   ]
  },
  {
   "cell_type": "markdown",
   "id": "3f10f4c6",
   "metadata": {},
   "source": [
    "Desición: Lo que buscamos es determinar la demanda global de vinos dada la venta histórica, es por ello que eliminamos la variable cosecha."
   ]
  },
  {
   "cell_type": "code",
   "execution_count": 17,
   "id": "c1c5f972",
   "metadata": {},
   "outputs": [
    {
     "data": {
      "text/html": [
       "<div>\n",
       "<style scoped>\n",
       "    .dataframe tbody tr th:only-of-type {\n",
       "        vertical-align: middle;\n",
       "    }\n",
       "\n",
       "    .dataframe tbody tr th {\n",
       "        vertical-align: top;\n",
       "    }\n",
       "\n",
       "    .dataframe thead th {\n",
       "        text-align: right;\n",
       "    }\n",
       "</style>\n",
       "<table border=\"1\" class=\"dataframe\">\n",
       "  <thead>\n",
       "    <tr style=\"text-align: right;\">\n",
       "      <th></th>\n",
       "      <th>año</th>\n",
       "      <th>mes</th>\n",
       "      <th>CodCliente</th>\n",
       "      <th>codproducto</th>\n",
       "      <th>mercado</th>\n",
       "      <th>Pais</th>\n",
       "      <th>Cajas9Lts</th>\n",
       "      <th>MontoUSD</th>\n",
       "      <th>MontoCLP</th>\n",
       "    </tr>\n",
       "  </thead>\n",
       "  <tbody>\n",
       "    <tr>\n",
       "      <th>139</th>\n",
       "      <td>2005</td>\n",
       "      <td>1.0</td>\n",
       "      <td>967510807</td>\n",
       "      <td>SECASE04750</td>\n",
       "      <td>CHILE</td>\n",
       "      <td>CHILE</td>\n",
       "      <td>10.0</td>\n",
       "      <td>432.0</td>\n",
       "      <td>293596.0</td>\n",
       "    </tr>\n",
       "    <tr>\n",
       "      <th>140</th>\n",
       "      <td>2005</td>\n",
       "      <td>1.0</td>\n",
       "      <td>967510807</td>\n",
       "      <td>SESYSE04750</td>\n",
       "      <td>CHILE</td>\n",
       "      <td>CHILE</td>\n",
       "      <td>10.0</td>\n",
       "      <td>432.0</td>\n",
       "      <td>293596.0</td>\n",
       "    </tr>\n",
       "    <tr>\n",
       "      <th>141</th>\n",
       "      <td>2005</td>\n",
       "      <td>1.0</td>\n",
       "      <td>967510807</td>\n",
       "      <td>VMMARE03750</td>\n",
       "      <td>CHILE</td>\n",
       "      <td>CHILE</td>\n",
       "      <td>12.0</td>\n",
       "      <td>518.0</td>\n",
       "      <td>352316.0</td>\n",
       "    </tr>\n",
       "    <tr>\n",
       "      <th>142</th>\n",
       "      <td>2005</td>\n",
       "      <td>1.0</td>\n",
       "      <td>967510807</td>\n",
       "      <td>VMSBRE04750</td>\n",
       "      <td>CHILE</td>\n",
       "      <td>CHILE</td>\n",
       "      <td>3.0</td>\n",
       "      <td>130.0</td>\n",
       "      <td>88079.0</td>\n",
       "    </tr>\n",
       "    <tr>\n",
       "      <th>143</th>\n",
       "      <td>2005</td>\n",
       "      <td>1.0</td>\n",
       "      <td>967510807</td>\n",
       "      <td>VMCSRE03750</td>\n",
       "      <td>CHILE</td>\n",
       "      <td>CHILE</td>\n",
       "      <td>5.0</td>\n",
       "      <td>216.0</td>\n",
       "      <td>146798.0</td>\n",
       "    </tr>\n",
       "  </tbody>\n",
       "</table>\n",
       "</div>"
      ],
      "text/plain": [
       "      año  mes CodCliente  codproducto mercado   Pais  Cajas9Lts  MontoUSD  \\\n",
       "139  2005  1.0  967510807  SECASE04750   CHILE  CHILE       10.0     432.0   \n",
       "140  2005  1.0  967510807  SESYSE04750   CHILE  CHILE       10.0     432.0   \n",
       "141  2005  1.0  967510807  VMMARE03750   CHILE  CHILE       12.0     518.0   \n",
       "142  2005  1.0  967510807  VMSBRE04750   CHILE  CHILE        3.0     130.0   \n",
       "143  2005  1.0  967510807  VMCSRE03750   CHILE  CHILE        5.0     216.0   \n",
       "\n",
       "     MontoCLP  \n",
       "139  293596.0  \n",
       "140  293596.0  \n",
       "141  352316.0  \n",
       "142   88079.0  \n",
       "143  146798.0  "
      ]
     },
     "execution_count": 17,
     "metadata": {},
     "output_type": "execute_result"
    }
   ],
   "source": [
    "# Eliminar la columna 'cosecha'\n",
    "df.drop(columns=['cosecha'], inplace=True)\n",
    "\n",
    "# Verificar que la columna ha sido eliminada\n",
    "df.head()"
   ]
  },
  {
   "cell_type": "markdown",
   "id": "b3b1fff8",
   "metadata": {},
   "source": [
    "**4.4 Tratamiento de valores Nulos: campo 'Pais'**"
   ]
  },
  {
   "cell_type": "markdown",
   "id": "ac3241a9",
   "metadata": {},
   "source": [
    "Completar los valores nulos de la columna Pais basándonos en el 'mercado' y 'CodCliente' "
   ]
  },
  {
   "cell_type": "code",
   "execution_count": 18,
   "id": "e589071c",
   "metadata": {},
   "outputs": [
    {
     "name": "stdout",
     "output_type": "stream",
     "text": [
      "    mercado CodCliente   Pais\n",
      "139   CHILE  967510807  CHILE\n",
      "140   CHILE  967510807  CHILE\n",
      "141   CHILE  967510807  CHILE\n",
      "142   CHILE  967510807  CHILE\n",
      "143   CHILE  967510807  CHILE\n",
      "144   CHILE  967510807  CHILE\n",
      "145   CHILE  967510807  CHILE\n",
      "146   CHILE  967510807  CHILE\n",
      "147   CHILE  967510807  CHILE\n",
      "148   CHILE  967510807  CHILE\n",
      "Valores nulos restantes en la columna 'Pais': 1\n"
     ]
    }
   ],
   "source": [
    "# Crear un diccionario basado en mercado, CodCliente y Pais (sin valores nulos)\n",
    "mercado_cliente_pais = df.dropna(subset=['Pais']).groupby(['mercado', 'CodCliente'])['Pais'].first().to_dict()\n",
    "\n",
    "# Función para rellenar los valores nulos de 'Pais'\n",
    "def completar_pais(row):\n",
    "    if pd.isna(row['Pais']):\n",
    "        # Buscar en el diccionario el país basado en mercado y CodCliente\n",
    "        return mercado_cliente_pais.get((row['mercado'], row['CodCliente']), None)\n",
    "    else:\n",
    "        return row['Pais']\n",
    "\n",
    "# Aplicar la función a las filas con 'Pais' nulo\n",
    "df['Pais'] = df.apply(completar_pais, axis=1)\n",
    "\n",
    "# Mostrar las primeras filas para verificar los cambios\n",
    "print(df[['mercado', 'CodCliente', 'Pais']].head(10))\n",
    "\n",
    "# Verificar si quedan valores nulos\n",
    "print(f\"Valores nulos restantes en la columna 'Pais': {df['Pais'].isna().sum()}\")\n"
   ]
  },
  {
   "cell_type": "code",
   "execution_count": 19,
   "id": "689a96ca",
   "metadata": {},
   "outputs": [
    {
     "data": {
      "text/html": [
       "<div>\n",
       "<style scoped>\n",
       "    .dataframe tbody tr th:only-of-type {\n",
       "        vertical-align: middle;\n",
       "    }\n",
       "\n",
       "    .dataframe tbody tr th {\n",
       "        vertical-align: top;\n",
       "    }\n",
       "\n",
       "    .dataframe thead th {\n",
       "        text-align: right;\n",
       "    }\n",
       "</style>\n",
       "<table border=\"1\" class=\"dataframe\">\n",
       "  <thead>\n",
       "    <tr style=\"text-align: right;\">\n",
       "      <th></th>\n",
       "      <th>año</th>\n",
       "      <th>mes</th>\n",
       "      <th>CodCliente</th>\n",
       "      <th>codproducto</th>\n",
       "      <th>mercado</th>\n",
       "      <th>Pais</th>\n",
       "      <th>Cajas9Lts</th>\n",
       "      <th>MontoUSD</th>\n",
       "      <th>MontoCLP</th>\n",
       "    </tr>\n",
       "  </thead>\n",
       "  <tbody>\n",
       "    <tr>\n",
       "      <th>10616</th>\n",
       "      <td>2010</td>\n",
       "      <td>2.0</td>\n",
       "      <td>2002-8</td>\n",
       "      <td>SESYSE08750</td>\n",
       "      <td>ASIA</td>\n",
       "      <td>None</td>\n",
       "      <td>56.0</td>\n",
       "      <td>3080.0</td>\n",
       "      <td>1673518.0</td>\n",
       "    </tr>\n",
       "  </tbody>\n",
       "</table>\n",
       "</div>"
      ],
      "text/plain": [
       "        año  mes CodCliente  codproducto mercado  Pais  Cajas9Lts  MontoUSD  \\\n",
       "10616  2010  2.0     2002-8  SESYSE08750    ASIA  None       56.0    3080.0   \n",
       "\n",
       "        MontoCLP  \n",
       "10616  1673518.0  "
      ]
     },
     "execution_count": 19,
     "metadata": {},
     "output_type": "execute_result"
    }
   ],
   "source": [
    "#evaluamos cual es el país que aun contiene NAN\n",
    "df[df['Pais'].isna()]"
   ]
  },
  {
   "cell_type": "code",
   "execution_count": 20,
   "id": "8c7f0d14",
   "metadata": {},
   "outputs": [
    {
     "name": "stdout",
     "output_type": "stream",
     "text": [
      "        año  mes CodCliente  codproducto mercado  Pais  Cajas9Lts  MontoUSD  \\\n",
      "10616  2010  2.0     2002-8  SESYSE08750    ASIA  None       56.0    3080.0   \n",
      "\n",
      "        MontoCLP  \n",
      "10616  1673518.0  \n"
     ]
    }
   ],
   "source": [
    "# Filtrar y mostrar las filas donde 'CodCliente' es igual a '2002-8'\n",
    "codigo_cliente_filas = df[df['CodCliente'] == '2002-8']\n",
    "\n",
    "# Mostrar las filas correspondientes\n",
    "print(codigo_cliente_filas)"
   ]
  },
  {
   "cell_type": "markdown",
   "id": "61b12813",
   "metadata": {},
   "source": [
    "Desición: se elimina el unico registro con NAN de Pais porque no existen registros anteriores para el cliente: '2002-8' con los cuales comparar."
   ]
  },
  {
   "cell_type": "code",
   "execution_count": 21,
   "id": "8fb6d2a6",
   "metadata": {},
   "outputs": [
    {
     "name": "stdout",
     "output_type": "stream",
     "text": [
      "Total de filas después de eliminar '2002-8': 42264\n"
     ]
    }
   ],
   "source": [
    "# Eliminar las filas donde 'CodCliente' es igual a '2002-8'\n",
    "df= df[df['CodCliente'] != '2002-8']\n",
    "\n",
    "# Verificar si las filas fueron eliminadas\n",
    "print(f\"Total de filas después de eliminar '2002-8': {len(df)}\")\n"
   ]
  },
  {
   "cell_type": "code",
   "execution_count": 22,
   "id": "c7d1c097",
   "metadata": {},
   "outputs": [
    {
     "name": "stdout",
     "output_type": "stream",
     "text": [
      "Valores NaN por columna:\n",
      "año            0\n",
      "mes            0\n",
      "CodCliente     0\n",
      "codproducto    0\n",
      "mercado        0\n",
      "Pais           0\n",
      "Cajas9Lts      0\n",
      "MontoUSD       0\n",
      "MontoCLP       0\n",
      "dtype: int64\n"
     ]
    }
   ],
   "source": [
    "# Contar cuántos NaN hay en cada columna\n",
    "nan_count = df.isna().sum()\n",
    "print(\"Valores NaN por columna:\")\n",
    "print(nan_count)"
   ]
  },
  {
   "cell_type": "markdown",
   "id": "b42664f6",
   "metadata": {},
   "source": [
    "**5. Ingenieria de Columnas**"
   ]
  },
  {
   "cell_type": "markdown",
   "id": "ee5c57d4",
   "metadata": {},
   "source": [
    "**5.1 Eliminar campo MontoCLP,** Solo nos quedaremos con el campo MontoUSD, que corresponde a las ventas en moneda dólar"
   ]
  },
  {
   "cell_type": "code",
   "execution_count": 23,
   "id": "d5168045",
   "metadata": {},
   "outputs": [
    {
     "name": "stdout",
     "output_type": "stream",
     "text": [
      "<class 'pandas.core.frame.DataFrame'>\n",
      "Index: 42264 entries, 139 to 42451\n",
      "Data columns (total 8 columns):\n",
      " #   Column       Non-Null Count  Dtype  \n",
      "---  ------       --------------  -----  \n",
      " 0   año          42264 non-null  int64  \n",
      " 1   mes          42264 non-null  float64\n",
      " 2   CodCliente   42264 non-null  object \n",
      " 3   codproducto  42264 non-null  object \n",
      " 4   mercado      42264 non-null  object \n",
      " 5   Pais         42264 non-null  object \n",
      " 6   Cajas9Lts    42264 non-null  float64\n",
      " 7   MontoUSD     42264 non-null  float64\n",
      "dtypes: float64(3), int64(1), object(4)\n",
      "memory usage: 2.9+ MB\n"
     ]
    }
   ],
   "source": [
    "# Eliminar la columna 'MontoCLP'\n",
    "df.drop(columns=['MontoCLP'], inplace=True)\n",
    "\n",
    "# Verificar que la columna ha sido eliminada\n",
    "df.info()"
   ]
  },
  {
   "cell_type": "code",
   "execution_count": 24,
   "id": "9227eccb",
   "metadata": {},
   "outputs": [],
   "source": [
    "# Convertir la columna 'mes' y 'año' a tipo entero\n",
    "df['año'] = df['año'].astype(int)\n",
    "df['mes'] = df['mes'].astype(int)"
   ]
  },
  {
   "cell_type": "code",
   "execution_count": 25,
   "id": "d74a1eec",
   "metadata": {},
   "outputs": [
    {
     "name": "stdout",
     "output_type": "stream",
     "text": [
      "año    0\n",
      "mes    0\n",
      "dtype: int64\n"
     ]
    }
   ],
   "source": [
    "# Verificar si hay valores infinitos\n",
    "print(df[['año', 'mes']].replace([np.inf, -np.inf], np.nan).isna().sum())\n"
   ]
  },
  {
   "cell_type": "markdown",
   "id": "cccfe710",
   "metadata": {},
   "source": [
    "**5.2 Crear la columna Periodo,** combinando 'año' y 'mes', establecerla como indice y elimninar 'año' y 'mes'"
   ]
  },
  {
   "cell_type": "code",
   "execution_count": 26,
   "id": "d98cbe64",
   "metadata": {},
   "outputs": [
    {
     "name": "stdout",
     "output_type": "stream",
     "text": [
      "      año  mes  periodo\n",
      "139  2005    1  2005-01\n",
      "140  2005    1  2005-01\n",
      "141  2005    1  2005-01\n",
      "142  2005    1  2005-01\n",
      "143  2005    1  2005-01\n"
     ]
    }
   ],
   "source": [
    "# Crear la columna 'periodo' combinando 'año' y 'mes' con un separador\n",
    "df['periodo'] = df['año'].astype(str) + '-' + df['mes'].astype(int).astype(str).str.zfill(2)\n",
    "\n",
    "# Mostrar las primeras filas para verificar el resultado\n",
    "print(df[['año', 'mes', 'periodo']].head())"
   ]
  },
  {
   "cell_type": "code",
   "execution_count": 27,
   "id": "1fdbc046",
   "metadata": {},
   "outputs": [
    {
     "data": {
      "text/html": [
       "<div>\n",
       "<style scoped>\n",
       "    .dataframe tbody tr th:only-of-type {\n",
       "        vertical-align: middle;\n",
       "    }\n",
       "\n",
       "    .dataframe tbody tr th {\n",
       "        vertical-align: top;\n",
       "    }\n",
       "\n",
       "    .dataframe thead th {\n",
       "        text-align: right;\n",
       "    }\n",
       "</style>\n",
       "<table border=\"1\" class=\"dataframe\">\n",
       "  <thead>\n",
       "    <tr style=\"text-align: right;\">\n",
       "      <th></th>\n",
       "      <th>periodo</th>\n",
       "      <th>CodCliente</th>\n",
       "      <th>codproducto</th>\n",
       "      <th>mercado</th>\n",
       "      <th>Pais</th>\n",
       "      <th>Cajas9Lts</th>\n",
       "      <th>MontoUSD</th>\n",
       "    </tr>\n",
       "  </thead>\n",
       "  <tbody>\n",
       "    <tr>\n",
       "      <th>139</th>\n",
       "      <td>2005-01</td>\n",
       "      <td>967510807</td>\n",
       "      <td>SECASE04750</td>\n",
       "      <td>CHILE</td>\n",
       "      <td>CHILE</td>\n",
       "      <td>10.0</td>\n",
       "      <td>432.0</td>\n",
       "    </tr>\n",
       "    <tr>\n",
       "      <th>140</th>\n",
       "      <td>2005-01</td>\n",
       "      <td>967510807</td>\n",
       "      <td>SESYSE04750</td>\n",
       "      <td>CHILE</td>\n",
       "      <td>CHILE</td>\n",
       "      <td>10.0</td>\n",
       "      <td>432.0</td>\n",
       "    </tr>\n",
       "    <tr>\n",
       "      <th>141</th>\n",
       "      <td>2005-01</td>\n",
       "      <td>967510807</td>\n",
       "      <td>VMMARE03750</td>\n",
       "      <td>CHILE</td>\n",
       "      <td>CHILE</td>\n",
       "      <td>12.0</td>\n",
       "      <td>518.0</td>\n",
       "    </tr>\n",
       "    <tr>\n",
       "      <th>142</th>\n",
       "      <td>2005-01</td>\n",
       "      <td>967510807</td>\n",
       "      <td>VMSBRE04750</td>\n",
       "      <td>CHILE</td>\n",
       "      <td>CHILE</td>\n",
       "      <td>3.0</td>\n",
       "      <td>130.0</td>\n",
       "    </tr>\n",
       "    <tr>\n",
       "      <th>143</th>\n",
       "      <td>2005-01</td>\n",
       "      <td>967510807</td>\n",
       "      <td>VMCSRE03750</td>\n",
       "      <td>CHILE</td>\n",
       "      <td>CHILE</td>\n",
       "      <td>5.0</td>\n",
       "      <td>216.0</td>\n",
       "    </tr>\n",
       "  </tbody>\n",
       "</table>\n",
       "</div>"
      ],
      "text/plain": [
       "     periodo CodCliente  codproducto mercado   Pais  Cajas9Lts  MontoUSD\n",
       "139  2005-01  967510807  SECASE04750   CHILE  CHILE       10.0     432.0\n",
       "140  2005-01  967510807  SESYSE04750   CHILE  CHILE       10.0     432.0\n",
       "141  2005-01  967510807  VMMARE03750   CHILE  CHILE       12.0     518.0\n",
       "142  2005-01  967510807  VMSBRE04750   CHILE  CHILE        3.0     130.0\n",
       "143  2005-01  967510807  VMCSRE03750   CHILE  CHILE        5.0     216.0"
      ]
     },
     "execution_count": 27,
     "metadata": {},
     "output_type": "execute_result"
    }
   ],
   "source": [
    "# Colocar la columna 'periodo' como la primera y eliminar 'año' y 'mes'\n",
    "df = df[['periodo'] + [col for col in df.columns if col not in ['año', 'mes', 'periodo']]]\n",
    "\n",
    "# Verificar el nuevo DataFrame\n",
    "df.head()\n"
   ]
  },
  {
   "cell_type": "markdown",
   "id": "707d5105",
   "metadata": {},
   "source": [
    "**6. Serie temporales**"
   ]
  },
  {
   "cell_type": "markdown",
   "id": "dde527be",
   "metadata": {},
   "source": [
    "Lo que buscamos es determinar la demanda global de vinos dada la venta histórica, es por ello que eliminamos variables tales como Codcliente, Codproducto, mercado y país"
   ]
  },
  {
   "cell_type": "code",
   "execution_count": 28,
   "id": "302b4e95",
   "metadata": {},
   "outputs": [
    {
     "name": "stdout",
     "output_type": "stream",
     "text": [
      "     periodo  Cajas9Lts  MontoUSD\n",
      "139  2005-01       10.0     432.0\n",
      "140  2005-01       10.0     432.0\n",
      "141  2005-01       12.0     518.0\n",
      "142  2005-01        3.0     130.0\n",
      "143  2005-01        5.0     216.0\n"
     ]
    }
   ],
   "source": [
    "# Eliminar las columnas 'CodCliente', 'codproducto', 'mercado' y 'Pais'\n",
    "df.drop(columns=['CodCliente', 'codproducto', 'mercado', 'Pais'], inplace=True)\n",
    "\n",
    "# Verificar que las columnas han sido eliminadas\n",
    "print(df.head())"
   ]
  },
  {
   "cell_type": "markdown",
   "id": "fbc98b01",
   "metadata": {},
   "source": [
    "Agrupar por Periodo"
   ]
  },
  {
   "cell_type": "code",
   "execution_count": 29,
   "id": "16d950ea",
   "metadata": {},
   "outputs": [
    {
     "name": "stdout",
     "output_type": "stream",
     "text": [
      "   periodo  Cajas9Lts  MontoUSD\n",
      "0  2005-01     9828.0  326739.0\n",
      "1  2005-02    12482.0  422192.0\n",
      "2  2005-03    12542.0  396762.0\n",
      "3  2005-04    13557.0  405280.0\n",
      "4  2005-05    18870.0  613037.0\n"
     ]
    }
   ],
   "source": [
    "# Agrupar por 'periodo' y sumar los valores de 'Cajas9Lts' y 'MontoUSD'\n",
    "df = df.groupby('periodo').sum().reset_index()\n",
    "\n",
    "# Mostrar las primeras filas del DataFrame agrupado\n",
    "print(df.head())\n"
   ]
  },
  {
   "cell_type": "markdown",
   "id": "d8031ba8",
   "metadata": {},
   "source": [
    "Agregamos variable Fecha"
   ]
  },
  {
   "cell_type": "code",
   "execution_count": 30,
   "id": "ec25dbd4",
   "metadata": {},
   "outputs": [
    {
     "name": "stdout",
     "output_type": "stream",
     "text": [
      "       fecha  periodo  Cajas9Lts  MontoUSD\n",
      "0 2005-01-01  2005-01     9828.0  326739.0\n",
      "1 2005-02-01  2005-02    12482.0  422192.0\n",
      "2 2005-03-01  2005-03    12542.0  396762.0\n",
      "3 2005-04-01  2005-04    13557.0  405280.0\n",
      "4 2005-05-01  2005-05    18870.0  613037.0\n"
     ]
    }
   ],
   "source": [
    "# Convertir 'periodo' a fecha usando el formato correcto 'YYYY-MM'\n",
    "df['fecha'] = pd.to_datetime(df['periodo'].astype(str), format='%Y-%m')\n",
    "\n",
    "# Reordenar las columnas para que 'fecha' esté en primer lugar\n",
    "columnas = ['fecha'] + [col for col in df.columns if col != 'fecha']\n",
    "df = df[columnas]\n",
    "\n",
    "# Verificar las primeras filas\n",
    "print(df.head())"
   ]
  },
  {
   "cell_type": "markdown",
   "id": "6ffdd94b",
   "metadata": {},
   "source": [
    "Normalizar las variables númericas"
   ]
  },
  {
   "cell_type": "code",
   "execution_count": 31,
   "id": "7ab05127",
   "metadata": {},
   "outputs": [
    {
     "name": "stdout",
     "output_type": "stream",
     "text": [
      "   Cajas9Lts  Cajas9Lts_norm  MontoUSD  MontoUSD_norm\n",
      "0     9828.0        0.203997  326739.0       0.151360\n",
      "1    12482.0        0.263310  422192.0       0.201302\n",
      "2    12542.0        0.264651  396762.0       0.187997\n",
      "3    13557.0        0.287335  405280.0       0.192453\n",
      "4    18870.0        0.406073  613037.0       0.301152\n"
     ]
    }
   ],
   "source": [
    "from sklearn.preprocessing import MinMaxScaler\n",
    "\n",
    "# Crear un objeto MinMaxScaler\n",
    "scaler = MinMaxScaler()\n",
    "\n",
    "# Normalizar las columnas 'Cajas9Lts' y 'MontoUSD' y crear nuevas columnas para los datos normalizados\n",
    "df['Cajas9Lts_norm'] = scaler.fit_transform(df[['Cajas9Lts']])\n",
    "df['MontoUSD_norm'] = scaler.fit_transform(df[['MontoUSD']])\n",
    "\n",
    "# Verificar las nuevas columnas normalizadas\n",
    "print(df[['Cajas9Lts', 'Cajas9Lts_norm', 'MontoUSD', 'MontoUSD_norm']].head())\n"
   ]
  },
  {
   "cell_type": "code",
   "execution_count": 32,
   "id": "72e1cdac",
   "metadata": {},
   "outputs": [
    {
     "data": {
      "image/png": "[encoded data removed]",
      "text/plain": [
       "<Figure size 1000x600 with 1 Axes>"
      ]
     },
     "metadata": {},
     "output_type": "display_data"
    }
   ],
   "source": [
    "df['periodo'] = pd.to_datetime(df['periodo'], format='%Y-%m')\n",
    "# Agrupar por año y mes, sumando 'MontoUSD'\n",
    "df_monthly = df.groupby('periodo', as_index=False)['MontoUSD'].sum()\n",
    "\n",
    "# Graficar las ventas totales por mes\n",
    "plt.figure(figsize=(10, 6))\n",
    "plt.plot(df_monthly['periodo'], df_monthly['MontoUSD'], marker='o')\n",
    "\n",
    "# Añadir etiquetas y título\n",
    "plt.title('Total MontoUSD Vendido Cada Mes')\n",
    "plt.xlabel('Mes')\n",
    "plt.ylabel('MontoUSD')\n",
    "\n",
    "# Rotar las etiquetas del eje x para mejorar la legibilidad\n",
    "plt.xticks(rotation=45)\n",
    "\n",
    "# Ajustar automáticamente las etiquetas del eje x para evitar superposición\n",
    "plt.gca().xaxis.set_major_locator(mdates.MonthLocator(interval=12))  # Mostrar cada interval meses\n",
    "plt.gca().xaxis.set_major_formatter(mdates.DateFormatter('%Y-%m'))  # Formato: Año-Mes\n",
    "\n",
    "plt.tight_layout()\n",
    "plt.show()"
   ]
  },
  {
   "cell_type": "code",
   "execution_count": 34,
   "id": "72d6d167",
   "metadata": {},
   "outputs": [
    {
     "data": {
      "text/html": [
       "<div>\n",
       "<style scoped>\n",
       "    .dataframe tbody tr th:only-of-type {\n",
       "        vertical-align: middle;\n",
       "    }\n",
       "\n",
       "    .dataframe tbody tr th {\n",
       "        vertical-align: top;\n",
       "    }\n",
       "\n",
       "    .dataframe thead th {\n",
       "        text-align: right;\n",
       "    }\n",
       "</style>\n",
       "<table border=\"1\" class=\"dataframe\">\n",
       "  <thead>\n",
       "    <tr style=\"text-align: right;\">\n",
       "      <th></th>\n",
       "      <th>periodo</th>\n",
       "      <th>MontoUSD</th>\n",
       "      <th>t-1</th>\n",
       "      <th>t-12</th>\n",
       "    </tr>\n",
       "  </thead>\n",
       "  <tbody>\n",
       "    <tr>\n",
       "      <th>12</th>\n",
       "      <td>2006-01-01</td>\n",
       "      <td>452437.0</td>\n",
       "      <td>302394.0</td>\n",
       "      <td>326739.0</td>\n",
       "    </tr>\n",
       "    <tr>\n",
       "      <th>13</th>\n",
       "      <td>2006-02-01</td>\n",
       "      <td>263808.0</td>\n",
       "      <td>452437.0</td>\n",
       "      <td>422192.0</td>\n",
       "    </tr>\n",
       "    <tr>\n",
       "      <th>14</th>\n",
       "      <td>2006-03-01</td>\n",
       "      <td>282101.0</td>\n",
       "      <td>263808.0</td>\n",
       "      <td>396762.0</td>\n",
       "    </tr>\n",
       "    <tr>\n",
       "      <th>15</th>\n",
       "      <td>2006-04-01</td>\n",
       "      <td>361765.0</td>\n",
       "      <td>282101.0</td>\n",
       "      <td>405280.0</td>\n",
       "    </tr>\n",
       "    <tr>\n",
       "      <th>16</th>\n",
       "      <td>2006-05-01</td>\n",
       "      <td>371528.0</td>\n",
       "      <td>361765.0</td>\n",
       "      <td>613037.0</td>\n",
       "    </tr>\n",
       "  </tbody>\n",
       "</table>\n",
       "</div>"
      ],
      "text/plain": [
       "      periodo  MontoUSD       t-1      t-12\n",
       "12 2006-01-01  452437.0  302394.0  326739.0\n",
       "13 2006-02-01  263808.0  452437.0  422192.0\n",
       "14 2006-03-01  282101.0  263808.0  396762.0\n",
       "15 2006-04-01  361765.0  282101.0  405280.0\n",
       "16 2006-05-01  371528.0  361765.0  613037.0"
      ]
     },
     "execution_count": 34,
     "metadata": {},
     "output_type": "execute_result"
    }
   ],
   "source": [
    "# Crear shifts\n",
    "df_monthly['t-1']=df_monthly['MontoUSD'].shift(1) \n",
    "df_monthly['t-12']=df_monthly['MontoUSD'].shift(12)\n",
    "# Botar Nans\n",
    "df_monthly.dropna(inplace=True)\n",
    "\n",
    "df_monthly.head()"
   ]
  },
  {
   "cell_type": "code",
   "execution_count": 35,
   "id": "d40e6e6b",
   "metadata": {},
   "outputs": [
    {
     "data": {
      "image/png": "[encoded data removed]",
      "text/plain": [
       "<Figure size 1000x600 with 1 Axes>"
      ]
     },
     "metadata": {},
     "output_type": "display_data"
    },
    {
     "data": {
      "image/png": "[encoded data removed]",
      "text/plain": [
       "<Figure size 1000x600 with 1 Axes>"
      ]
     },
     "metadata": {},
     "output_type": "display_data"
    }
   ],
   "source": [
    "# Calcular correlaciones\n",
    "corr_t1 = df_monthly['MontoUSD'].corr(df_monthly['t-1'])\n",
    "corr_t12 = df_monthly['MontoUSD'].corr(df_monthly['t-12'])\n",
    "\n",
    "# Crear gráfico de dispersión para t-1 (mes anterior)\n",
    "plt.figure(figsize=(10, 6))\n",
    "plt.scatter(df_monthly['t-1'], df_monthly['MontoUSD'], alpha=0.7)\n",
    "plt.title('Diagrama de Dispersión: MontoUSD vs t-1 (Mes Anterior)')\n",
    "plt.xlabel('MontoUSD (t-1)')\n",
    "plt.ylabel('MontoUSD (Mes Actual)')\n",
    "plt.grid(True)\n",
    "\n",
    "# Agregar el valor de la correlación en la esquina superior izquierda\n",
    "plt.text(0.05, 0.95, f'Correlación: {corr_t1:.2f}', \n",
    "         transform=plt.gca().transAxes, \n",
    "         fontsize=12, \n",
    "         verticalalignment='top')\n",
    "\n",
    "plt.tight_layout()\n",
    "plt.show()\n",
    "\n",
    "# Crear gráfico de dispersión para t-12 (mismo mes el año pasado)\n",
    "plt.figure(figsize=(10, 6))\n",
    "plt.scatter(df_monthly['t-12'], df_monthly['MontoUSD'], alpha=0.7)\n",
    "plt.title('Diagrama de Dispersión: MontoUSD vs t-12 (Mismo Mes Año Pasado)')\n",
    "plt.xlabel('MontoUSD (t-12)')\n",
    "plt.ylabel('MontoUSD (Mes Actual)')\n",
    "plt.grid(True)\n",
    "\n",
    "# Agregar el valor de la correlación en la esquina superior izquierda\n",
    "plt.text(0.05, 0.95, f'Correlación: {corr_t12:.2f}', \n",
    "         transform=plt.gca().transAxes, \n",
    "         fontsize=12, \n",
    "         verticalalignment='top')\n",
    "\n",
    "plt.tight_layout()\n",
    "plt.show()"
   ]
  },
  {
   "cell_type": "markdown",
   "id": "2cda8170",
   "metadata": {},
   "source": [
    "Creamos una segunda columna relacionada al MontoUSD utilizando shift"
   ]
  },
  {
   "cell_type": "code",
   "execution_count": 36,
   "id": "ffc0f788",
   "metadata": {},
   "outputs": [
    {
     "name": "stdout",
     "output_type": "stream",
     "text": [
      "        fecha    periodo  Cajas9Lts  MontoUSD  Cajas9Lts_norm  MontoUSD_norm  \\\n",
      "0  2005-01-01 2005-01-01     9828.0  326739.0        0.203997       0.151360   \n",
      "1  2005-02-01 2005-02-01    12482.0  422192.0        0.263310       0.201302   \n",
      "2  2005-03-01 2005-03-01    12542.0  396762.0        0.264651       0.187997   \n",
      "3  2005-04-01 2005-04-01    13557.0  405280.0        0.287335       0.192453   \n",
      "4  2005-05-01 2005-05-01    18870.0  613037.0        0.406073       0.301152   \n",
      "5  2005-06-01 2005-06-01    14305.0  428516.0        0.304052       0.204610   \n",
      "6  2005-07-01 2005-07-01     7938.0  318475.0        0.161759       0.147037   \n",
      "7  2005-08-01 2005-08-01    13227.0  527185.0        0.279960       0.256234   \n",
      "8  2005-09-01 2005-09-01    11277.0  386498.0        0.236380       0.182626   \n",
      "9  2005-10-01 2005-10-01    12188.0  376402.0        0.256740       0.177344   \n",
      "10 2005-11-01 2005-11-01    11394.0  457432.0        0.238995       0.219739   \n",
      "11 2005-12-01 2005-12-01     9765.0  302394.0        0.202589       0.138623   \n",
      "12 2006-01-01 2006-01-01    12981.0  452437.0        0.274462       0.217126   \n",
      "13 2006-02-01 2006-02-01     8345.0  263808.0        0.170855       0.118435   \n",
      "14 2006-03-01 2006-03-01     6434.0  282101.0        0.128146       0.128006   \n",
      "\n",
      "    MontoUSD_t_12  \n",
      "0             NaN  \n",
      "1             NaN  \n",
      "2             NaN  \n",
      "3             NaN  \n",
      "4             NaN  \n",
      "5             NaN  \n",
      "6             NaN  \n",
      "7             NaN  \n",
      "8             NaN  \n",
      "9             NaN  \n",
      "10            NaN  \n",
      "11            NaN  \n",
      "12       326739.0  \n",
      "13       422192.0  \n",
      "14       396762.0  \n"
     ]
    }
   ],
   "source": [
    "# Crear una nueva columna con los valores de 'MontoUSD' desplazados en 12 períodos (mismo mes del año anterior)\n",
    "df['MontoUSD_t_12'] = df['MontoUSD'].shift(12)\n",
    "\n",
    "# Verificar el resultado\n",
    "print(df.head(15))  # Mostrar más filas para ver el efecto\n"
   ]
  },
  {
   "cell_type": "markdown",
   "id": "2e35568e",
   "metadata": {},
   "source": [
    "Eliminamos valores NAN"
   ]
  },
  {
   "cell_type": "code",
   "execution_count": 37,
   "id": "be66c131",
   "metadata": {},
   "outputs": [
    {
     "name": "stdout",
     "output_type": "stream",
     "text": [
      "<class 'pandas.core.frame.DataFrame'>\n",
      "Index: 227 entries, 12 to 238\n",
      "Data columns (total 7 columns):\n",
      " #   Column          Non-Null Count  Dtype         \n",
      "---  ------          --------------  -----         \n",
      " 0   fecha           227 non-null    datetime64[ns]\n",
      " 1   periodo         227 non-null    datetime64[ns]\n",
      " 2   Cajas9Lts       227 non-null    float64       \n",
      " 3   MontoUSD        227 non-null    float64       \n",
      " 4   Cajas9Lts_norm  227 non-null    float64       \n",
      " 5   MontoUSD_norm   227 non-null    float64       \n",
      " 6   MontoUSD_t_12   227 non-null    float64       \n",
      "dtypes: datetime64[ns](2), float64(5)\n",
      "memory usage: 14.2 KB\n"
     ]
    }
   ],
   "source": [
    "# Eliminar las filas que contienen valores NaN en cualquier columna\n",
    "df = df.dropna()\n",
    "\n",
    "df.info()"
   ]
  },
  {
   "cell_type": "markdown",
   "id": "4ee4dd7c",
   "metadata": {},
   "source": [
    "MontoUSD es la variable dependiente principal en este análisis de series temporales. Representa el valor en dólares de las ventas de vino a lo largo del tiempo. Esta columna captura la evolución de las ventas en diferentes países y mercados, y está directamente afectada por la cantidad de cajas vendidas y otros factores relacionados con la demanda y la oferta en el mercado del vino. Al modelar esta variable, se busca entender los patrones de comportamiento de las ventas para prever la demanda futura de vinos, específicamente en el año 2025."
   ]
  }
 ],
 "metadata": {
  "kernelspec": {
   "display_name": "Python 3",
   "language": "python",
   "name": "python3"
  },
  "language_info": {
   "codemirror_mode": {
    "name": "ipython",
    "version": 3
   },
   "file_extension": ".py",
   "mimetype": "text/x-python",
   "name": "python",
   "nbconvert_exporter": "python",
   "pygments_lexer": "ipython3",
   "version": "3.11.7"
  }
 },
 "nbformat": 4,
 "nbformat_minor": 5
}
